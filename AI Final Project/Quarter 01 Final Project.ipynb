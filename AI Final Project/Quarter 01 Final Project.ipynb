{
 "cells": [
  {
   "cell_type": "code",
   "execution_count": 1,
   "metadata": {},
   "outputs": [
    {
     "name": "stdout",
     "output_type": "stream",
     "text": [
      "Enter radius of circle: 23\n",
      "Area of circle with radius  23.0 is 1661.0600000000002\n"
     ]
    }
   ],
   "source": [
    "#Question-01: Area of Circle?\n",
    "#Answer:\n",
    "Radius = float(input(\"Enter radius of circle: \"))\n",
    "Area_of_circle = 3.14 * Radius **2\n",
    "print(\"Area of circle with radius \",Radius,\"is\",Area_of_circle)"
   ]
  },
  {
   "cell_type": "code",
   "execution_count": 6,
   "metadata": {},
   "outputs": [
    {
     "name": "stdout",
     "output_type": "stream",
     "text": [
      "Enter first integer: 10\n",
      "Enter second integer: 5\n",
      "Number 10 is divisible by 5\n"
     ]
    }
   ],
   "source": [
    "#Question-02: Divisibility of two numbers?\n",
    "#Answer:\n",
    "value1 = int(input(\"Enter first number: \"))\n",
    "value2 = int(input(\"Enter second number: \"))\n",
    "\n",
    "if value1 % value2 == 0:\n",
    "    print(f\"Number {value1} is divisible by {value2}\")\n",
    "\n",
    "else:\n",
    "    print(f\"Number {value1} is not divisible by {value2}\")"
   ]
  },
  {
   "cell_type": "code",
   "execution_count": 8,
   "metadata": {},
   "outputs": [
    {
     "name": "stdout",
     "output_type": "stream",
     "text": [
      "Enter your desired number: 0\n",
      "You entered zero\n"
     ]
    }
   ],
   "source": [
    "#Question-03: What is the status of number Positive, Negative or Zero?\n",
    "#Answer:\n",
    "Value = int(input(\"Enter your number: \"))\n",
    "\n",
    "if Value > 0 :\n",
    "        print(\"Your entered number is Positive\")\n",
    "\n",
    "elif Value < 0 :\n",
    "        print(\"Your entered number is Negative\")\n",
    "\n",
    "else :\n",
    "        print(\"You entered number is zero\")"
   ]
  },
  {
   "cell_type": "code",
   "execution_count": 11,
   "metadata": {},
   "outputs": [
    {
     "name": "stdout",
     "output_type": "stream",
     "text": [
      "Enter a date in (dd/mm/yy) format: 6/6/1998\n",
      "Enter a date in (dd/mm/yy) format: 13/6/2019\n",
      "There are 7677 days in between 6/6/1998 and 13/6/2019\n"
     ]
    }
   ],
   "source": [
    "#Question-04: Days Calculator?\n",
    "#Answer:\n",
    "from datetime import datetime\n",
    "date_format = \"%d/%m/%Y\"\n",
    "e = input(\"Enter a date in (dd/mm/yy) format: \")\n",
    "f = input(\"Enter a date in (dd/mm/yy) format: \")\n",
    "a = datetime.strptime( e , date_format)\n",
    "b = datetime.strptime( f , date_format)\n",
    "delta = b - a\n",
    "print (\"There are\", delta.days, \"days in between\", e , \"and\" , f)"
   ]
  },
  {
   "cell_type": "code",
   "execution_count": 12,
   "metadata": {},
   "outputs": [
    {
     "name": "stdout",
     "output_type": "stream",
     "text": [
      "Enter Radius of Sphere: 23\n",
      "Volume of the Sphere with Radius 23 is: 50965.01042829066\n"
     ]
    }
   ],
   "source": [
    "#Question-05: Volume of sphere?\n",
    "#Answer:\n",
    "a = int(input(\"Enter radius of Sphere: \"))\n",
    "print(\"Volume of the Sphere with radius\" , a , \"is:\", 4 / 3 * 3.141592654 * a * a * a)"
   ]
  },
  {
   "cell_type": "code",
   "execution_count": 14,
   "metadata": {},
   "outputs": [
    {
     "name": "stdout",
     "output_type": "stream",
     "text": [
      "Enter String: PakistanZindabad\n",
      "How many copies of String you need: 10\n",
      "10 Copies of PakistanZindabad are : PakistanZindabadPakistanZindabadPakistanZindabadPakistanZindabadPakistanZindabadPakistanZindabadPakistanZindabadPakistanZindabadPakistanZindabadPakistanZindabad\n"
     ]
    }
   ],
   "source": [
    "#Question-06: Number of copies?\n",
    "#Answer:\n",
    "e = str(input(\"Enter Value: \"))\n",
    "b = int(input(\"How many copies of Value you need: \"))\n",
    "if b > 0:\n",
    "    print(b,\"Copies of\", e , \"are :\" , b * e)        \n",
    "else:\n",
    "    print(\"Invalid Value or Number of copies:\")"
   ]
  },
  {
   "cell_type": "code",
   "execution_count": 15,
   "metadata": {},
   "outputs": [
    {
     "name": "stdout",
     "output_type": "stream",
     "text": [
      "Enter Number: 4\n",
      "4 is Even\n"
     ]
    }
   ],
   "source": [
    "#Question-07: What is the status of number Even or Odd?\n",
    "#Answer:\n",
    "num = int(input(\"Enter Number: \"))\n",
    "mod = num % 2\n",
    "if mod > 0:\n",
    "    print(num, \"is Odd Number\")\n",
    "else:\n",
    "    print(num, \"is Even Number\")"
   ]
  },
  {
   "cell_type": "code",
   "execution_count": 17,
   "metadata": {},
   "outputs": [
    {
     "name": "stdout",
     "output_type": "stream",
     "text": [
      "Enter a character: E\n",
      "Letter E is Vowel.\n"
     ]
    }
   ],
   "source": [
    "#Question-08: What is the status of character Vowel or Not-vowel?\n",
    "#Answer:\n",
    "a = input(\"Enter a character: \")\n",
    "\n",
    "if a in ('a', 'A', 'e', 'E', 'i', 'I', 'o', 'O', 'u', 'U'):\n",
    "    print(\"Letter\", a, \"is Vowel.\")\n",
    "else:\n",
    "    print(\"Letter\", a, \"is not Vowel.\")"
   ]
  },
  {
   "cell_type": "code",
   "execution_count": 20,
   "metadata": {},
   "outputs": [
    {
     "name": "stdout",
     "output_type": "stream",
     "text": [
      "Please enter principal amount: 1000\n",
      "Please Enter Rate of interest in %: 1\n",
      "Enter number of years for investment: 1\n",
      "After 1 years your principal amount 1000 over an interest rate of 1.0 % will be 20000.0\n"
     ]
    }
   ],
   "source": [
    "#Question-09: Calculate Interest?\n",
    "#Answer:\n",
    "a = int(input(\"Please enter principal amount: \"))\n",
    "b = float(input(\"Please Enter Rate of interest in %: \"))\n",
    "c = int(input(\"Enter number of years for investment: \"))\n",
    "d = 0\n",
    "e = a * b * 10\n",
    "while d < c:\n",
    "    e += e * b\n",
    "    d += 1\n",
    "    \n",
    "print(\"After\",c,\"years your principal amount\",a,\"over an interest rate of\",b,\"% will be\",e)"
   ]
  },
  {
   "cell_type": "code",
   "execution_count": 22,
   "metadata": {},
   "outputs": [
    {
     "name": "stdout",
     "output_type": "stream",
     "text": [
      "Enter magnitude of Triangle base: 10\n",
      "Enter Magnitude of Triangle Height: 20\n",
      "Area of a Triangle with Height 20 and Base 10 is 100\n"
     ]
    }
   ],
   "source": [
    "#Question-10: Area of Triangle?\n",
    "#Answewr:\n",
    "b = int(input(\"Enter magnitude of Triangle base: \"))\n",
    "h = int(input(\"Enter Magnitude of Triangle Height: \"))\n",
    "\n",
    "area = int(b*h/2)\n",
    "\n",
    "print(\"Area of a Triangle with Height\", h, \"and Base\", b, \"is\", area)"
   ]
  },
  {
   "cell_type": "code",
   "execution_count": 23,
   "metadata": {},
   "outputs": [
    {
     "name": "stdout",
     "output_type": "stream",
     "text": [
      "Enter Co-ordinate for x1: 9\n",
      "Enter Co-ordinate for x2: 7\n",
      "Enter Co-ordinate for y1: 290\n",
      "Enter Co-ordinate for y2: 4\n",
      "Distance between points ( 9 , 290 ) and ( 7 , 4 ) is 286\n"
     ]
    }
   ],
   "source": [
    "#Question-11:Euclidean distance?\n",
    "#Answer:\n",
    "import math\n",
    "a = int(input(\"Enter Co-ordinate for x1: \"))\n",
    "b = int(input(\"Enter Co-ordinate for x2: \"))\n",
    "c = int(input(\"Enter Co-ordinate for y1: \"))\n",
    "d = int(input(\"Enter Co-ordinate for y2: \"))\n",
    "e = (a - b)*(a - b) + (c - d)*(c - d)\n",
    "f = math.sqrt(e)\n",
    "print(\"Distance between points (\",a,\",\",c,\") and (\",b,\",\",d,\") is\",int(f))"
   ]
  },
  {
   "cell_type": "code",
   "execution_count": 25,
   "metadata": {},
   "outputs": [
    {
     "name": "stdout",
     "output_type": "stream",
     "text": [
      "Enter Height in Feet: 6\n",
      "There are 182.88 Cm in 6 ft\n"
     ]
    }
   ],
   "source": [
    "#Question-12: Converter from Feet to Centimeter?\n",
    "#Answer:\n",
    "d_ft = float(input(\"Enter Height in Feet: \"))\n",
    "d_cm = float(d_ft) * 30.48\n",
    "\n",
    "print(\"There are\",d_cm,\"Cm in\",int(d_ft),\"ft\")"
   ]
  },
  {
   "cell_type": "code",
   "execution_count": 26,
   "metadata": {},
   "outputs": [
    {
     "name": "stdout",
     "output_type": "stream",
     "text": [
      "Enter Height in Cm: 182.88\n",
      "Enter Weight in Kg: 65\n",
      "Your BMI is 19.434838252392556\n"
     ]
    }
   ],
   "source": [
    "#Question-13: BMI Calculator?\n",
    "#Answer:\n",
    "a = float(input(\"Enter Height in Cm: \"))\n",
    "b = float(input(\"Enter Weight in Kg: \"))\n",
    "c = a * 0.01\n",
    "d = b / (c * c)\n",
    "print(\"Your BMI is\",d)"
   ]
  },
  {
   "cell_type": "code",
   "execution_count": 27,
   "metadata": {},
   "outputs": [
    {
     "name": "stdout",
     "output_type": "stream",
     "text": [
      "Enter value of n: 8\n",
      "Sum of n Positive integers till 8 is 36\n"
     ]
    }
   ],
   "source": [
    "#Question-14: Sum of n Positive Numbers?\n",
    "#Answer:\n",
    "n = int(input(\"Enter value of n: \"))\n",
    "sum_num = (n * (n + 1)) / 2\n",
    "print(\"Sum of n Positive integers till\",n,\"is\",int(sum_num))"
   ]
  },
  {
   "cell_type": "code",
   "execution_count": 28,
   "metadata": {},
   "outputs": [
    {
     "name": "stdout",
     "output_type": "stream",
     "text": [
      "Enter a number: 88\n",
      "Sum of 8 + 8 is 16\n"
     ]
    }
   ],
   "source": [
    "#Question-15: Sum of Number?\n",
    "#Answer:\n",
    "num = str(input(\"Enter a number: \"))\n",
    "x = 0 \n",
    "for y in num:\n",
    "    x += int(y)\n",
    "print(\"Sum of\", ' + '.join(map(str,num)) ,\"is\",x)"
   ]
  },
  {
   "cell_type": "code",
   "execution_count": 29,
   "metadata": {},
   "outputs": [
    {
     "name": "stdout",
     "output_type": "stream",
     "text": [
      "Enter a decimal number: 4\n",
      "Binary Reperesentation of 4 is 100\n"
     ]
    }
   ],
   "source": [
    "#Question-16: Converter from Decimal to Binary?\n",
    "#Answer:\n",
    "dec = int(input(\"Enter a decimal number: \"))\n",
    "num = bin(dec)\n",
    "print(\"Binary Reperesentation of\",dec,\"is\",num[2:])"
   ]
  },
  {
   "cell_type": "code",
   "execution_count": 30,
   "metadata": {},
   "outputs": [
    {
     "name": "stdout",
     "output_type": "stream",
     "text": [
      "Enter a Binary number: 100\n",
      "Decimal Reperesentation of 100 is 4\n"
     ]
    }
   ],
   "source": [
    "#Question-17: Converter from Binary to Decimal?\n",
    "#Answer:\n",
    "bi = input(\"Enter a Binary number: \")\n",
    "num = int(bi,2)\n",
    "print(\"Decimal Reperesentation of\",bi,\"is\",num)"
   ]
  },
  {
   "cell_type": "code",
   "execution_count": 31,
   "metadata": {},
   "outputs": [
    {
     "name": "stdout",
     "output_type": "stream",
     "text": [
      "Enter text: AnasMuhammadKhalid\n",
      "\n",
      "Vowels: 7\n",
      "Consonants: 11\n"
     ]
    }
   ],
   "source": [
    "#Question-18: Counter of Vowel and Consonents\n",
    "#Answer:\n",
    "str1 = input(\"Enter text: \")\n",
    "vowels = 0\n",
    "consonants = 0\n",
    "\n",
    "for i in str1:\n",
    "    if(i == 'a' or i == 'e' or i == 'i' or i == 'o' or i == 'u'\n",
    "       or i == 'A' or i == 'E' or i == 'I' or i == 'O' or i == 'U'):\n",
    "        vowels = vowels + 1\n",
    "    else:\n",
    "        consonants = consonants + 1\n",
    "\n",
    "print()\n",
    "print(\"Vowels:\",vowels)\n",
    "print(\"Consonants:\",consonants)"
   ]
  },
  {
   "cell_type": "code",
   "execution_count": 32,
   "metadata": {},
   "outputs": [
    {
     "name": "stdout",
     "output_type": "stream",
     "text": [
      "Enter text: python\n",
      "It is not palindrome\n"
     ]
    }
   ],
   "source": [
    "#Question-19: Palindrome tester?\n",
    "#Answer:\n",
    "my_str = input(\"Enter text: \")\n",
    "my_str = my_str.casefold()\n",
    "rev_str = reversed(my_str)\n",
    "\n",
    "if list(my_str) == list(rev_str):\n",
    "   print(\"It is palindrome\")\n",
    "else:\n",
    "   print(\"It is not palindrome\")"
   ]
  },
  {
   "cell_type": "code",
   "execution_count": 36,
   "metadata": {},
   "outputs": [
    {
     "name": "stdout",
     "output_type": "stream",
     "text": [
      "Enter text: anaskhalid339@gmail.co m\n",
      "Numbers = 3\n",
      "Alphabets = 18\n",
      "Special Characters = 2\n",
      "Spaces = 1\n"
     ]
    }
   ],
   "source": [
    "#Question-20: Counter of Alphabetic Numbers and Special Characters?\n",
    "#Answewr:\n",
    "txt = input(\"Enter text: \")\n",
    "a = 0\n",
    "b = 0\n",
    "c = 0\n",
    "d = 0\n",
    "for x in txt:\n",
    "    if int(ord(x)) >= 65 and int(ord(x)) <= 122:\n",
    "        a += 1\n",
    "    elif int(ord(x)) >= 48 and int(ord(x)) <= 57:\n",
    "        b += 1\n",
    "    elif x == \" \":\n",
    "        d += 1\n",
    "    else:\n",
    "        c += 1\n",
    "print(\"Numbers =\",b)\n",
    "print(\"Alphabets =\",a)\n",
    "print(\"Special Characters =\",c)\n",
    "print(\"Spaces =\",d)"
   ]
  },
  {
   "cell_type": "code",
   "execution_count": 38,
   "metadata": {},
   "outputs": [
    {
     "name": "stdout",
     "output_type": "stream",
     "text": [
      "\n",
      "* \n",
      "* * \n",
      "* * * \n",
      "* * * * \n",
      "* * * * * \n",
      "* * * * \n",
      "* * * \n",
      "* * \n",
      "* \n"
     ]
    }
   ],
   "source": [
    "#Question-21: Python program to construct following pattern?\n",
    "#Answer:\n",
    "n=5;\n",
    "for i in range(n):\n",
    "    for j in range(i):\n",
    "        print ('* ', end=\"\")\n",
    "    print('')\n",
    "\n",
    "for i in range(n,0,-1):\n",
    "    for j in range(i):\n",
    "        print('* ', end=\"\")\n",
    "    print('')"
   ]
  },
  {
   "cell_type": "code",
   "execution_count": 39,
   "metadata": {},
   "outputs": [
    {
     "name": "stdout",
     "output_type": "stream",
     "text": [
      "1\n",
      "12\n",
      "123\n",
      "1234\n",
      "12345\n",
      "1234\n",
      "123\n",
      "12\n",
      "1\n",
      "\n"
     ]
    }
   ],
   "source": [
    "#Question-22: Python program to construct following pattern?\n",
    "#Answer:\n",
    "my_string = \"12345\"\n",
    "x = 0\n",
    "\n",
    "for i in my_string:\n",
    "    x = x + 1\n",
    "    print(my_string[0:x])\n",
    "\n",
    "for i in my_string:\n",
    "    x = x - 1\n",
    "    print(my_string[0:x])"
   ]
  },
  {
   "cell_type": "code",
   "execution_count": 1,
   "metadata": {},
   "outputs": [
    {
     "name": "stdout",
     "output_type": "stream",
     "text": [
      "\n",
      "1\n",
      "22\n",
      "333\n",
      "4444\n",
      "55555\n",
      "666666\n",
      "7777777\n",
      "88888888\n",
      "999999999\n"
     ]
    }
   ],
   "source": [
    "#Question-23: Python program to construct following pattern?\n",
    "#Answer:\n",
    "for i in range(10):\n",
    "    print(str(i) * i)"
   ]
  },
  {
   "cell_type": "code",
   "execution_count": null,
   "metadata": {},
   "outputs": [],
   "source": []
  },
  {
   "cell_type": "code",
   "execution_count": null,
   "metadata": {},
   "outputs": [],
   "source": []
  },
  {
   "cell_type": "code",
   "execution_count": null,
   "metadata": {},
   "outputs": [],
   "source": []
  },
  {
   "cell_type": "code",
   "execution_count": null,
   "metadata": {},
   "outputs": [],
   "source": []
  }
 ],
 "metadata": {
  "kernelspec": {
   "display_name": "Python 3",
   "language": "python",
   "name": "python3"
  },
  "language_info": {
   "codemirror_mode": {
    "name": "ipython",
    "version": 3
   },
   "file_extension": ".py",
   "mimetype": "text/x-python",
   "name": "python",
   "nbconvert_exporter": "python",
   "pygments_lexer": "ipython3",
   "version": "3.7.3"
  }
 },
 "nbformat": 4,
 "nbformat_minor": 2
}
